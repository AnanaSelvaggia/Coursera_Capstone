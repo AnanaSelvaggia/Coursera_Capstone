{
 "nbformat": 4,
 "nbformat_minor": 2,
 "metadata": {
  "language_info": {
   "name": "python",
   "codemirror_mode": {
    "name": "ipython",
    "version": 3
   },
   "version": "3.7.6-final"
  },
  "orig_nbformat": 2,
  "file_extension": ".py",
  "mimetype": "text/x-python",
  "name": "python",
  "npconvert_exporter": "python",
  "pygments_lexer": "ipython3",
  "version": 3,
  "kernelspec": {
   "name": "python37664bitbaseconda524b2dc26e184d1d85adb2ccfd95284a",
   "display_name": "Python 3.7.6 64-bit ('base': conda)"
  }
 },
 "cells": [
  {
   "cell_type": "markdown",
   "metadata": {},
   "source": [
    "Introduction"
   ]
  },
  {
   "cell_type": "markdown",
   "metadata": {},
   "source": [
    "In the Battle of the Neighborhoods final project, we are tasked to leverage the Foursquare location data to compare neighborhoods\n",
    "of our choice. In my case, I will be using Foursquare location data of restaurants throughout the Turin boroughs\n",
    "(and the neighborhoods within each borough). This information is used to answer the question: if someone is looking to open a\n",
    "restaurant in Turin, where would I recommend that they open it?"
   ]
  },
  {
   "cell_type": "markdown",
   "metadata": {},
   "source": [
    "I am a cook with more than fifteen years of experience who tired of being behind a kitchen wants to help other young entrepreneurs to grow professionally by supporting them in opening their businesses"
   ]
  },
  {
   "cell_type": "markdown",
   "metadata": {},
   "source": [
    "Data\n",
    "\n",
    "My city is at the forefront of data collection in Italy and has, available for everyone, a website that collects all the necessary data divided by category, available in csv, xml, html, etc.\n",
    "\"http://aperto.comune.torino.it/dataset\" \n",
    "\n",
    "So I will take the data from there regarding the neighborhoods of the city and with the help of foursquare I will analyze the catering companies already present in the various neighborhoods."
   ]
  },
  {
   "cell_type": "markdown",
   "metadata": {},
   "source": [
    "I will try to answer the most common questions"
   ]
  },
  {
   "cell_type": "markdown",
   "metadata": {},
   "source": [
    "In which district is there more restaurant activity?"
   ]
  },
  {
   "cell_type": "markdown",
   "metadata": {},
   "source": [
    "In which neighborhood are rents lower?"
   ]
  },
  {
   "cell_type": "markdown",
   "metadata": {},
   "source": [
    "In which neighborhoods is there the most tourist turnout?"
   ]
  },
  {
   "cell_type": "code",
   "execution_count": null,
   "metadata": {},
   "outputs": [],
   "source": []
  }
 ]
}