{
 "nbformat": 4,
 "nbformat_minor": 2,
 "metadata": {
  "language_info": {
   "name": "python",
   "codemirror_mode": {
    "name": "ipython",
    "version": 3
   },
   "version": "3.7.6-final"
  },
  "orig_nbformat": 2,
  "file_extension": ".py",
  "mimetype": "text/x-python",
  "name": "python",
  "npconvert_exporter": "python",
  "pygments_lexer": "ipython3",
  "version": 3,
  "kernelspec": {
   "name": "python37664bitbaseconda524b2dc26e184d1d85adb2ccfd95284a",
   "display_name": "Python 3.7.6 64-bit ('base': conda)"
  }
 },
 "cells": [
  {
   "cell_type": "markdown",
   "metadata": {},
   "source": [
    "Introduction\n",
    "\n",
    "In the Battle of the Neighborhoods final project, we are tasked to leverage the Foursquare location data to compare neighborhoods\n",
    "of our choice. In my case, I will be using Foursquare location data of Italian restaurants throughout the New York City boroughs\n",
    "(and the neighborhoods within each borough). This information is used to answer the question: if someone is looking to open an Italian\n",
    "restaurant in New York City, where would I recommend that they open it? \n",
    "\n",
    "I come from a long line of Italian restaurateurs, many of whom immigrated to New York City back in the early 20th century. While I will \n",
    "not go into the family business, I have siblings that are ready to start their own culinary careers. Hopefully with this project,\n",
    "I will be able to help find the best location for them to set up shop. New York City has the largest population of Italian Americans in\n",
    "all of North America, so there will be a lot of competition. I will try and find a borough, and more specifically, a neighborhood\n",
    "that has the best average ratings, but is not situated in an area that is already heavily saturated with other Italian restaurants.\n",
    "\n",
    "Data\n",
    "\n",
    "I will be using data from \"https://cocl.us/new_york_dataset\" to gather information about the New York City boroughs and neighborhoods,\n",
    "as well as their longitudes and latitudes, and the restaurants and their ratings. \n",
    "\n",
    "I will also be using data from \"https://data.cityofnewyork.us/City-Government/Borough-Boundaries/tqmj-j8zm\" to gather the boundaries for\n",
    "each New York City neighborhood. \n",
    "\n",
    "Lastly, I will using data from Foursquare API to gather information regarding the locations of the Italian restaurants in New York City.\n"
   ]
  },
  {
   "cell_type": "code",
   "execution_count": null,
   "metadata": {},
   "outputs": [],
   "source": []
  }
 ]
}